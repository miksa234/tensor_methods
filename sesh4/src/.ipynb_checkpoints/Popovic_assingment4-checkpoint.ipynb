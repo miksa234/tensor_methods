{
 "cells": [
  {
   "cell_type": "code",
   "execution_count": 67,
   "id": "a0245b45",
   "metadata": {},
   "outputs": [
    {
     "data": {
      "text/plain": [
       "rank_7_CPD"
      ]
     },
     "execution_count": 67,
     "metadata": {},
     "output_type": "execute_result"
    }
   ],
   "source": [
    "using LinearAlgebra\n",
    "using Plots\n",
    "using Distributions\n",
    "using LaTeXStrings\n",
    "using Random\n",
    "using TSVD\n",
    "include(\"../../sesh3/src/functions.jl\")\n",
    "include(\"../../sesh2/src/functions.jl\")"
   ]
  },
  {
   "cell_type": "markdown",
   "id": "4c5e0a42",
   "metadata": {},
   "source": [
    "# Exercise 1"
   ]
  },
  {
   "cell_type": "code",
   "execution_count": 135,
   "id": "f8ec20e3",
   "metadata": {},
   "outputs": [
    {
     "data": {
      "text/plain": [
       "tucker_eval (generic function with 1 method)"
      ]
     },
     "execution_count": 135,
     "metadata": {},
     "output_type": "execute_result"
    }
   ],
   "source": [
    "function hosvd(C, r)\n",
    "    S0 = copy(C)\n",
    "    d = length(size(C))\n",
    "    n = size(C)\n",
    "    V = []\n",
    "    singular_values = []\n",
    "    errors = []\n",
    "    for k=1:d\n",
    "        B = reshape(S0, (prod([[r_i for  r_i in r[1:(k-1)]]..., [i_k for i_k in n[(k+1):end]]...])..., n[k]))\n",
    "        U_hat, Sig_hat, V_hat = tsvd(convert(Matrix{Float64}, B), r[k])\n",
    "        B_hat = U_hat * Diagonal(Sig_hat) * transpose(V_hat)\n",
    "        W_hat = B * V_hat\n",
    "        S0 = reshape(W_hat , ([r_i for r_i in r[1:k]]..., [n_k for n_k in n[k+1:end]]...))\n",
    "        \n",
    "        append!(V, [V_hat])\n",
    "        append!(singular_values, [Sig_hat])\n",
    "        C_hat = tucker_eval(S0, V)\n",
    "        append!(errors, norm(C_hat - C)/norm(C))\n",
    "    end\n",
    "    return V, S0, singular_values, errors\n",
    "end\n",
    "\n",
    "\n",
    "function tucker_eval(S, V)\n",
    "    d = length(V)+1\n",
    "    A = copy(S)\n",
    "    for (k, V_k) in enumerate(reverse(V))\n",
    "        A = mode_k_dot(A, V_k, d-k)\n",
    "    end\n",
    "    return A\n",
    "end"
   ]
  },
  {
   "cell_type": "code",
   "execution_count": 136,
   "id": "7794ccdd",
   "metadata": {},
   "outputs": [],
   "source": [
    "d = 4;\n",
    "n = [20+k for k=1:d];\n",
    "r = [2*k for k=1:d];\n",
    "V = [rand(Uniform(-1, 1), n[k], r[k]) for k=1:d];\n",
    "S = rand(Uniform(-1, 1), r...);\n",
    "A = tucker_eval(S, V);\n",
    "V, S, singular_values, errors = hosvd(A, r);"
   ]
  },
  {
   "cell_type": "markdown",
   "id": "c0f93f64",
   "metadata": {},
   "source": [
    "# Exercise 2 "
   ]
  },
  {
   "cell_type": "code",
   "execution_count": 70,
   "id": "0562e4e7",
   "metadata": {},
   "outputs": [],
   "source": [
    "function f(x)\n",
    "    s = 0\n",
    "    for (k, xk) in enumerate(x)\n",
    "        s = s .+ (xk.^2 / (8^(k-1)))\n",
    "    end\n",
    "    return (1 .+ s).^(-1)\n",
    "end\n",
    "\n",
    "function g(x)\n",
    "    s1 = 0\n",
    "    s2 = 0\n",
    "    for (k, xk) in enumerate(x)\n",
    "        s1 = s1 .+ (xk.^2 / (8^(k-1)))\n",
    "        s2 = s2 .+ (4 * pi * xk)/(4^(k-1))\n",
    "    end\n",
    "    return sqrt.(s1) .* (1 .+ 1/2 * cos.(s2))\n",
    "end\n",
    "\n",
    "function unfold(A, k)\n",
    "    B = permutedims(A, vcat(k, setdiff(1:length(size(A)), k)))\n",
    "    d = size(B, 1)\n",
    "    return reshape(B, (d, div(length(B),d)))\n",
    "end\n",
    "\n",
    "t(n) = [(2*(i-1)/(n-1) - 1) for i in 1:n]\n",
    "\n"
   ]
  },
  {
   "cell_type": "markdown",
   "id": "13abb65b",
   "metadata": {},
   "source": [
    "# Exercise 3"
   ]
  },
  {
   "cell_type": "code",
   "execution_count": 80,
   "id": "c08e0c7f",
   "metadata": {},
   "outputs": [
    {
     "data": {
      "text/plain": [
       "rank_approx (generic function with 2 methods)"
      ]
     },
     "execution_count": 80,
     "metadata": {},
     "output_type": "execute_result"
    }
   ],
   "source": [
    "eps_j = [1/(10^(j*2)) for j=1:6]\n",
    "function rank_approx(C, eps_j=eps_j)\n",
    "    r_jk = []\n",
    "    singular_vec = []\n",
    "    d = length(size(C))\n",
    "    eps_jk = []\n",
    "    for k=1:d\n",
    "        C_k = tenmat(C, k)\n",
    "        U, S, V = svd(C_k)\n",
    "        append!(singular_vec, [S])\n",
    "        for (j, e_j) in enumerate(eps_j)\n",
    "            for r=1:d\n",
    "                U_hat, S_hat, V_hat = tsvd(C_k, r)\n",
    "                C_k_hat = U_hat * Diagonal(S_hat) * transpose(V_hat)\n",
    "                if norm(C_k_hat-C_k)/norm(C_k) <= e_j\n",
    "                    append!(eps_jk, norm(C_k_hat-C_k)/norm(C_k))\n",
    "                    append!(r_jk, r)\n",
    "                    break\n",
    "                end\n",
    "            end\n",
    "        end\n",
    "    end\n",
    "    return reshape(r_jk, (length(eps_j), d)), reshape(eps_jk, (length(eps_j), d)), singular_vec\n",
    "end"
   ]
  },
  {
   "cell_type": "code",
   "execution_count": 103,
   "id": "21f29099",
   "metadata": {},
   "outputs": [
    {
     "data": {
      "text/plain": [
       "false"
      ]
     },
     "execution_count": 103,
     "metadata": {},
     "output_type": "execute_result"
    }
   ],
   "source": [
    "d = 4\n",
    "A = [f([t_i, t_j, t_k, t_l]) for t_i in t(d), t_j in t(d), t_k in t(d), t_l in t(d)];\n",
    "B = [g([t_i, t_j, t_k, t_l]) for t_i in t(d), t_j in t(d), t_k in t(d), t_l in t(d)];"
   ]
  },
  {
   "cell_type": "markdown",
   "id": "8f1a72d4",
   "metadata": {},
   "source": [
    "# Exercise 4, 5"
   ]
  },
  {
   "cell_type": "code",
   "execution_count": 371,
   "id": "65e2e226",
   "metadata": {},
   "outputs": [
    {
     "data": {
      "text/plain": [
       "tt_svd (generic function with 1 method)"
      ]
     },
     "execution_count": 371,
     "metadata": {},
     "output_type": "execute_result"
    }
   ],
   "source": [
    "function ttmps_eval(U, n)\n",
    "    A = U[1]\n",
    "    for U_k in U[2:end]\n",
    "        A = A * U_k\n",
    "    end\n",
    "    return reshape(A, n)\n",
    "end\n",
    "\n",
    "function tt_svd(A, n, r, d)\n",
    "    r_0 = 1\n",
    "    r_new = [r_0, r...]\n",
    "    S_0_hat = copy(A)\n",
    "    C = []; singular_val = []; errors = []\n",
    "    for k=2:d\n",
    "        B_k = reshape(S_0_hat, (r_new[k-1] * n[k-1], prod([n[i] for i=k:d])))\n",
    "        U_hat, Sig_hat, V_hat = tsvd(convert(Matrix{Float64}, B_k), r_new[k])\n",
    "        C_k = reshape(U_hat, (r_new[k-1], n[k-1], r_new[k]))\n",
    "        W_k_hat = Diagonal(Sig_hat) * transpose(V_hat)\n",
    "        S_0_hat = reshape(W_k_hat, (r_new[k], [n[i] for i=k:d]...))\n",
    "        append!(C, [C_k])\n",
    "        append!(singular_val, [Sig_hat])\n",
    "        \n",
    "        #A_hat = ttmps_eval(S_0_hat, C)\n",
    "        #append!(errors, norm(A_hat - A)/norm(A))\n",
    "    end\n",
    "    append!(C, [S_0_hat])\n",
    "    return C, singular_val, errors\n",
    "end"
   ]
  },
  {
   "cell_type": "markdown",
   "id": "bad26f36",
   "metadata": {},
   "source": [
    "# Exercise 6"
   ]
  },
  {
   "cell_type": "code",
   "execution_count": 372,
   "id": "d86060bd",
   "metadata": {},
   "outputs": [],
   "source": [
    "d = 4;\n",
    "n = [20+k for k=1:d];\n",
    "r = [[2*k for k=1:(d-1)]..., 1];\n",
    "V = [rand(Uniform(-1, 1), n[k], r[k]) for k=1:d];\n",
    "S = rand(Uniform(-1, 1), r...);\n",
    "A = tucker_eval(S, V);\n",
    "C, singular_val, errors = tt_svd(A, n, r, d);\n"
   ]
  },
  {
   "cell_type": "code",
   "execution_count": null,
   "id": "3d398f32",
   "metadata": {},
   "outputs": [],
   "source": []
  },
  {
   "cell_type": "code",
   "execution_count": null,
   "id": "d3f2138c",
   "metadata": {},
   "outputs": [],
   "source": []
  },
  {
   "cell_type": "code",
   "execution_count": null,
   "id": "e39ada8d",
   "metadata": {},
   "outputs": [],
   "source": []
  },
  {
   "cell_type": "code",
   "execution_count": null,
   "id": "9f06c365",
   "metadata": {},
   "outputs": [],
   "source": []
  }
 ],
 "metadata": {
  "kernelspec": {
   "display_name": "Julia 1.6.3",
   "language": "julia",
   "name": "julia-1.6"
  },
  "language_info": {
   "file_extension": ".jl",
   "mimetype": "application/julia",
   "name": "julia",
   "version": "1.7.0"
  }
 },
 "nbformat": 4,
 "nbformat_minor": 5
}
